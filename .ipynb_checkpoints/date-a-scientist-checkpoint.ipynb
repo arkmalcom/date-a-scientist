{
 "cells": [
  {
   "cell_type": "markdown",
   "metadata": {},
   "source": [
    "# OkCupid Date-A-Scientist\n",
    "\n",
    "## Introduction"
   ]
  },
  {
   "cell_type": "code",
   "execution_count": 1,
   "metadata": {},
   "outputs": [],
   "source": [
    "import pandas as pd\n",
    "import matplotlib.pyplot as plt\n",
    "import seaborn as sns\n",
    "import numpy as np"
   ]
  },
  {
   "cell_type": "markdown",
   "metadata": {},
   "source": [
    "## Data exploration\n",
    "\n",
    "### Initial exploration\n",
    "\n",
    "To begin, we'll look at some basic information in this dataset, including:\n",
    "- The first few rows of the table\n",
    "- The distinct columns and their types\n",
    "- How many total rows we have\n",
    "- Where, if anywhere, there may be values missing"
   ]
  },
  {
   "cell_type": "code",
   "execution_count": 2,
   "metadata": {},
   "outputs": [
    {
     "data": {
      "text/html": [
       "<div>\n",
       "<style scoped>\n",
       "    .dataframe tbody tr th:only-of-type {\n",
       "        vertical-align: middle;\n",
       "    }\n",
       "\n",
       "    .dataframe tbody tr th {\n",
       "        vertical-align: top;\n",
       "    }\n",
       "\n",
       "    .dataframe thead th {\n",
       "        text-align: right;\n",
       "    }\n",
       "</style>\n",
       "<table border=\"1\" class=\"dataframe\">\n",
       "  <thead>\n",
       "    <tr style=\"text-align: right;\">\n",
       "      <th></th>\n",
       "      <th>age</th>\n",
       "      <th>body_type</th>\n",
       "      <th>diet</th>\n",
       "      <th>drinks</th>\n",
       "      <th>drugs</th>\n",
       "      <th>education</th>\n",
       "      <th>essay0</th>\n",
       "      <th>essay1</th>\n",
       "      <th>essay2</th>\n",
       "      <th>essay3</th>\n",
       "      <th>...</th>\n",
       "      <th>location</th>\n",
       "      <th>offspring</th>\n",
       "      <th>orientation</th>\n",
       "      <th>pets</th>\n",
       "      <th>religion</th>\n",
       "      <th>sex</th>\n",
       "      <th>sign</th>\n",
       "      <th>smokes</th>\n",
       "      <th>speaks</th>\n",
       "      <th>status</th>\n",
       "    </tr>\n",
       "  </thead>\n",
       "  <tbody>\n",
       "    <tr>\n",
       "      <th>0</th>\n",
       "      <td>22</td>\n",
       "      <td>a little extra</td>\n",
       "      <td>strictly anything</td>\n",
       "      <td>socially</td>\n",
       "      <td>never</td>\n",
       "      <td>working on college/university</td>\n",
       "      <td>about me:&lt;br /&gt;\\n&lt;br /&gt;\\ni would love to think...</td>\n",
       "      <td>currently working as an international agent fo...</td>\n",
       "      <td>making people laugh.&lt;br /&gt;\\nranting about a go...</td>\n",
       "      <td>the way i look. i am a six foot half asian, ha...</td>\n",
       "      <td>...</td>\n",
       "      <td>south san francisco, california</td>\n",
       "      <td>doesn&amp;rsquo;t have kids, but might want them</td>\n",
       "      <td>straight</td>\n",
       "      <td>likes dogs and likes cats</td>\n",
       "      <td>agnosticism and very serious about it</td>\n",
       "      <td>m</td>\n",
       "      <td>gemini</td>\n",
       "      <td>sometimes</td>\n",
       "      <td>english</td>\n",
       "      <td>single</td>\n",
       "    </tr>\n",
       "    <tr>\n",
       "      <th>1</th>\n",
       "      <td>35</td>\n",
       "      <td>average</td>\n",
       "      <td>mostly other</td>\n",
       "      <td>often</td>\n",
       "      <td>sometimes</td>\n",
       "      <td>working on space camp</td>\n",
       "      <td>i am a chef: this is what that means.&lt;br /&gt;\\n1...</td>\n",
       "      <td>dedicating everyday to being an unbelievable b...</td>\n",
       "      <td>being silly. having ridiculous amonts of fun w...</td>\n",
       "      <td>NaN</td>\n",
       "      <td>...</td>\n",
       "      <td>oakland, california</td>\n",
       "      <td>doesn&amp;rsquo;t have kids, but might want them</td>\n",
       "      <td>straight</td>\n",
       "      <td>likes dogs and likes cats</td>\n",
       "      <td>agnosticism but not too serious about it</td>\n",
       "      <td>m</td>\n",
       "      <td>cancer</td>\n",
       "      <td>no</td>\n",
       "      <td>english (fluently), spanish (poorly), french (...</td>\n",
       "      <td>single</td>\n",
       "    </tr>\n",
       "    <tr>\n",
       "      <th>2</th>\n",
       "      <td>38</td>\n",
       "      <td>thin</td>\n",
       "      <td>anything</td>\n",
       "      <td>socially</td>\n",
       "      <td>NaN</td>\n",
       "      <td>graduated from masters program</td>\n",
       "      <td>i'm not ashamed of much, but writing public te...</td>\n",
       "      <td>i make nerdy software for musicians, artists, ...</td>\n",
       "      <td>improvising in different contexts. alternating...</td>\n",
       "      <td>my large jaw and large glasses are the physica...</td>\n",
       "      <td>...</td>\n",
       "      <td>san francisco, california</td>\n",
       "      <td>NaN</td>\n",
       "      <td>straight</td>\n",
       "      <td>has cats</td>\n",
       "      <td>NaN</td>\n",
       "      <td>m</td>\n",
       "      <td>pisces but it doesn&amp;rsquo;t matter</td>\n",
       "      <td>no</td>\n",
       "      <td>english, french, c++</td>\n",
       "      <td>available</td>\n",
       "    </tr>\n",
       "    <tr>\n",
       "      <th>3</th>\n",
       "      <td>23</td>\n",
       "      <td>thin</td>\n",
       "      <td>vegetarian</td>\n",
       "      <td>socially</td>\n",
       "      <td>NaN</td>\n",
       "      <td>working on college/university</td>\n",
       "      <td>i work in a library and go to school. . .</td>\n",
       "      <td>reading things written by old dead people</td>\n",
       "      <td>playing synthesizers and organizing books acco...</td>\n",
       "      <td>socially awkward but i do my best</td>\n",
       "      <td>...</td>\n",
       "      <td>berkeley, california</td>\n",
       "      <td>doesn&amp;rsquo;t want kids</td>\n",
       "      <td>straight</td>\n",
       "      <td>likes cats</td>\n",
       "      <td>NaN</td>\n",
       "      <td>m</td>\n",
       "      <td>pisces</td>\n",
       "      <td>no</td>\n",
       "      <td>english, german (poorly)</td>\n",
       "      <td>single</td>\n",
       "    </tr>\n",
       "    <tr>\n",
       "      <th>4</th>\n",
       "      <td>29</td>\n",
       "      <td>athletic</td>\n",
       "      <td>NaN</td>\n",
       "      <td>socially</td>\n",
       "      <td>never</td>\n",
       "      <td>graduated from college/university</td>\n",
       "      <td>hey how's it going? currently vague on the pro...</td>\n",
       "      <td>work work work work + play</td>\n",
       "      <td>creating imagery to look at:&lt;br /&gt;\\nhttp://bag...</td>\n",
       "      <td>i smile a lot and my inquisitive nature</td>\n",
       "      <td>...</td>\n",
       "      <td>san francisco, california</td>\n",
       "      <td>NaN</td>\n",
       "      <td>straight</td>\n",
       "      <td>likes dogs and likes cats</td>\n",
       "      <td>NaN</td>\n",
       "      <td>m</td>\n",
       "      <td>aquarius</td>\n",
       "      <td>no</td>\n",
       "      <td>english</td>\n",
       "      <td>single</td>\n",
       "    </tr>\n",
       "  </tbody>\n",
       "</table>\n",
       "<p>5 rows × 31 columns</p>\n",
       "</div>"
      ],
      "text/plain": [
       "   age       body_type               diet    drinks      drugs  \\\n",
       "0   22  a little extra  strictly anything  socially      never   \n",
       "1   35         average       mostly other     often  sometimes   \n",
       "2   38            thin           anything  socially        NaN   \n",
       "3   23            thin         vegetarian  socially        NaN   \n",
       "4   29        athletic                NaN  socially      never   \n",
       "\n",
       "                           education  \\\n",
       "0      working on college/university   \n",
       "1              working on space camp   \n",
       "2     graduated from masters program   \n",
       "3      working on college/university   \n",
       "4  graduated from college/university   \n",
       "\n",
       "                                              essay0  \\\n",
       "0  about me:<br />\\n<br />\\ni would love to think...   \n",
       "1  i am a chef: this is what that means.<br />\\n1...   \n",
       "2  i'm not ashamed of much, but writing public te...   \n",
       "3          i work in a library and go to school. . .   \n",
       "4  hey how's it going? currently vague on the pro...   \n",
       "\n",
       "                                              essay1  \\\n",
       "0  currently working as an international agent fo...   \n",
       "1  dedicating everyday to being an unbelievable b...   \n",
       "2  i make nerdy software for musicians, artists, ...   \n",
       "3          reading things written by old dead people   \n",
       "4                         work work work work + play   \n",
       "\n",
       "                                              essay2  \\\n",
       "0  making people laugh.<br />\\nranting about a go...   \n",
       "1  being silly. having ridiculous amonts of fun w...   \n",
       "2  improvising in different contexts. alternating...   \n",
       "3  playing synthesizers and organizing books acco...   \n",
       "4  creating imagery to look at:<br />\\nhttp://bag...   \n",
       "\n",
       "                                              essay3  ...  \\\n",
       "0  the way i look. i am a six foot half asian, ha...  ...   \n",
       "1                                                NaN  ...   \n",
       "2  my large jaw and large glasses are the physica...  ...   \n",
       "3                  socially awkward but i do my best  ...   \n",
       "4            i smile a lot and my inquisitive nature  ...   \n",
       "\n",
       "                          location  \\\n",
       "0  south san francisco, california   \n",
       "1              oakland, california   \n",
       "2        san francisco, california   \n",
       "3             berkeley, california   \n",
       "4        san francisco, california   \n",
       "\n",
       "                                      offspring orientation  \\\n",
       "0  doesn&rsquo;t have kids, but might want them    straight   \n",
       "1  doesn&rsquo;t have kids, but might want them    straight   \n",
       "2                                           NaN    straight   \n",
       "3                       doesn&rsquo;t want kids    straight   \n",
       "4                                           NaN    straight   \n",
       "\n",
       "                        pets                                  religion sex  \\\n",
       "0  likes dogs and likes cats     agnosticism and very serious about it   m   \n",
       "1  likes dogs and likes cats  agnosticism but not too serious about it   m   \n",
       "2                   has cats                                       NaN   m   \n",
       "3                 likes cats                                       NaN   m   \n",
       "4  likes dogs and likes cats                                       NaN   m   \n",
       "\n",
       "                                 sign     smokes  \\\n",
       "0                              gemini  sometimes   \n",
       "1                              cancer         no   \n",
       "2  pisces but it doesn&rsquo;t matter         no   \n",
       "3                              pisces         no   \n",
       "4                            aquarius         no   \n",
       "\n",
       "                                              speaks     status  \n",
       "0                                            english     single  \n",
       "1  english (fluently), spanish (poorly), french (...     single  \n",
       "2                               english, french, c++  available  \n",
       "3                           english, german (poorly)     single  \n",
       "4                                            english     single  \n",
       "\n",
       "[5 rows x 31 columns]"
      ]
     },
     "execution_count": 2,
     "metadata": {},
     "output_type": "execute_result"
    }
   ],
   "source": [
    "df = pd.read_csv(\"profiles.csv\")\n",
    "df.head()"
   ]
  },
  {
   "cell_type": "code",
   "execution_count": 3,
   "metadata": {},
   "outputs": [
    {
     "name": "stdout",
     "output_type": "stream",
     "text": [
      "age              int64\n",
      "body_type       object\n",
      "diet            object\n",
      "drinks          object\n",
      "drugs           object\n",
      "education       object\n",
      "essay0          object\n",
      "essay1          object\n",
      "essay2          object\n",
      "essay3          object\n",
      "essay4          object\n",
      "essay5          object\n",
      "essay6          object\n",
      "essay7          object\n",
      "essay8          object\n",
      "essay9          object\n",
      "ethnicity       object\n",
      "height         float64\n",
      "income           int64\n",
      "job             object\n",
      "last_online     object\n",
      "location        object\n",
      "offspring       object\n",
      "orientation     object\n",
      "pets            object\n",
      "religion        object\n",
      "sex             object\n",
      "sign            object\n",
      "smokes          object\n",
      "speaks          object\n",
      "status          object\n",
      "dtype: object\n",
      "Total amount of rows: 59946\n",
      "Unique values in 'speaks' column: 7647\n"
     ]
    }
   ],
   "source": [
    "print(df.dtypes)\n",
    "print(\"Total amount of rows: {0}\".format(len(df)))\n",
    "print(\"Unique values in 'speaks' column: {0}\".format(df['speaks'].nunique()))"
   ]
  },
  {
   "cell_type": "markdown",
   "metadata": {},
   "source": [
    "The first few rows indicate that this data needs considerable tidying. For starters, the \"essays\" that the users write about themselves contain HTML tags that would need to be removed in order to be processed in any meaningful way. Secondly, certain columns such as 'religion' or 'sign' include what could be two potential features. We have the sign or religion itself, and how seriously the person adheres to astrology or their faith. \n",
    "\n",
    "This is important when finding potential compability as we wouldn't necessarily want to match someone who strictly adheres to their faith with someone who isn't very serious about it.\n",
    "\n",
    "Another potential problem could be the 'speaks' column, as it has over 7000 unique values. This is because there's a large number of potential combinations, as well as some humorous additions to the column (such as \"c++\"). We may only want to consider languages that the user has stated they're fluent in.\n",
    "\n",
    "One last thing we can check before actually beginning to make changes to these columns is where there may be any `NaN` values."
   ]
  },
  {
   "cell_type": "code",
   "execution_count": 4,
   "metadata": {},
   "outputs": [
    {
     "data": {
      "text/plain": [
       "age                0\n",
       "body_type       5296\n",
       "diet           24395\n",
       "drinks          2985\n",
       "drugs          14080\n",
       "education       6628\n",
       "essay0          5488\n",
       "essay1          7572\n",
       "essay2          9638\n",
       "essay3         11476\n",
       "essay4         10537\n",
       "essay5         10850\n",
       "essay6         13771\n",
       "essay7         12451\n",
       "essay8         19225\n",
       "essay9         12603\n",
       "ethnicity       5680\n",
       "height             3\n",
       "income             0\n",
       "job             8198\n",
       "last_online        0\n",
       "location           0\n",
       "offspring      35561\n",
       "orientation        0\n",
       "pets           19921\n",
       "religion       20226\n",
       "sex                0\n",
       "sign           11056\n",
       "smokes          5512\n",
       "speaks            50\n",
       "status             0\n",
       "dtype: int64"
      ]
     },
     "execution_count": 4,
     "metadata": {},
     "output_type": "execute_result"
    }
   ],
   "source": [
    "df.isna().sum()"
   ]
  },
  {
   "cell_type": "markdown",
   "metadata": {},
   "source": [
    "Eliminating rows that have `NaN` values would not really be feasible for most comparisons. For instance, `offspring` has over 35,000 `NaN` values! That's more than half the dataset that would get removed by simply dropping rows where `NaN` values are found. Instead, the approach we'll take is simply split up some of the features based on what we want to analyze, and then work to remove any `NaN` values that we may find within those features."
   ]
  },
  {
   "cell_type": "markdown",
   "metadata": {},
   "source": [
    "## Cleaning the data\n",
    "\n",
    "One of the first things we can do is remove HTML tags, line break characters or other special characters that break the text up and make it more difficult to read and process. The most common ones that are evident immediately are line breaks `\\n` and `<br />.` Other ones that can be seen are `&amp;` denoting an ampersand and `&rsquo;` denoting an apostrophe. "
   ]
  },
  {
   "cell_type": "code",
   "execution_count": 5,
   "metadata": {},
   "outputs": [
    {
     "data": {
      "text/html": [
       "<div>\n",
       "<style scoped>\n",
       "    .dataframe tbody tr th:only-of-type {\n",
       "        vertical-align: middle;\n",
       "    }\n",
       "\n",
       "    .dataframe tbody tr th {\n",
       "        vertical-align: top;\n",
       "    }\n",
       "\n",
       "    .dataframe thead th {\n",
       "        text-align: right;\n",
       "    }\n",
       "</style>\n",
       "<table border=\"1\" class=\"dataframe\">\n",
       "  <thead>\n",
       "    <tr style=\"text-align: right;\">\n",
       "      <th></th>\n",
       "      <th>age</th>\n",
       "      <th>body_type</th>\n",
       "      <th>diet</th>\n",
       "      <th>drinks</th>\n",
       "      <th>drugs</th>\n",
       "      <th>education</th>\n",
       "      <th>essay0</th>\n",
       "      <th>essay1</th>\n",
       "      <th>essay2</th>\n",
       "      <th>essay3</th>\n",
       "      <th>...</th>\n",
       "      <th>location</th>\n",
       "      <th>offspring</th>\n",
       "      <th>orientation</th>\n",
       "      <th>pets</th>\n",
       "      <th>religion</th>\n",
       "      <th>sex</th>\n",
       "      <th>sign</th>\n",
       "      <th>smokes</th>\n",
       "      <th>speaks</th>\n",
       "      <th>status</th>\n",
       "    </tr>\n",
       "  </thead>\n",
       "  <tbody>\n",
       "    <tr>\n",
       "      <th>0</th>\n",
       "      <td>22</td>\n",
       "      <td>a little extra</td>\n",
       "      <td>strictly anything</td>\n",
       "      <td>socially</td>\n",
       "      <td>never</td>\n",
       "      <td>working on college/university</td>\n",
       "      <td>about me:    i would love to think that i was ...</td>\n",
       "      <td>currently working as an international agent fo...</td>\n",
       "      <td>making people laugh.  ranting about a good sal...</td>\n",
       "      <td>the way i look. i am a six foot half asian, ha...</td>\n",
       "      <td>...</td>\n",
       "      <td>south san francisco, california</td>\n",
       "      <td>doesn't have kids, but might want them</td>\n",
       "      <td>straight</td>\n",
       "      <td>likes dogs and likes cats</td>\n",
       "      <td>agnosticism and very serious about it</td>\n",
       "      <td>m</td>\n",
       "      <td>gemini</td>\n",
       "      <td>sometimes</td>\n",
       "      <td>english</td>\n",
       "      <td>single</td>\n",
       "    </tr>\n",
       "  </tbody>\n",
       "</table>\n",
       "<p>1 rows × 31 columns</p>\n",
       "</div>"
      ],
      "text/plain": [
       "   age       body_type               diet    drinks  drugs  \\\n",
       "0   22  a little extra  strictly anything  socially  never   \n",
       "\n",
       "                       education  \\\n",
       "0  working on college/university   \n",
       "\n",
       "                                              essay0  \\\n",
       "0  about me:    i would love to think that i was ...   \n",
       "\n",
       "                                              essay1  \\\n",
       "0  currently working as an international agent fo...   \n",
       "\n",
       "                                              essay2  \\\n",
       "0  making people laugh.  ranting about a good sal...   \n",
       "\n",
       "                                              essay3  ...  \\\n",
       "0  the way i look. i am a six foot half asian, ha...  ...   \n",
       "\n",
       "                          location                               offspring  \\\n",
       "0  south san francisco, california  doesn't have kids, but might want them   \n",
       "\n",
       "  orientation                       pets  \\\n",
       "0    straight  likes dogs and likes cats   \n",
       "\n",
       "                                religion sex    sign     smokes   speaks  \\\n",
       "0  agnosticism and very serious about it   m  gemini  sometimes  english   \n",
       "\n",
       "   status  \n",
       "0  single  \n",
       "\n",
       "[1 rows x 31 columns]"
      ]
     },
     "execution_count": 5,
     "metadata": {},
     "output_type": "execute_result"
    }
   ],
   "source": [
    "df.replace(r\"<[^<]+?>\", \" \", regex=True, inplace=True)\n",
    "df.replace(r\"\\n\", \" \", regex=True, inplace=True)\n",
    "df.replace(r\"&amp;\", \"&\", regex=True, inplace=True)\n",
    "df.replace(r\"&rsquo;\", \"'\", regex=True, inplace=True)\n",
    "df.head(1)"
   ]
  },
  {
   "cell_type": "markdown",
   "metadata": {},
   "source": [
    "Just looking at one row we can already tell the data's more readable. The next step is to combine all essays into a sort of user \"biography.\" We'll create a `bio` column, which will be the sum of all the essays for that user. A potential problem here would be any essay that the user chose not to fill out, thus resulting in a `NaN` value. We'll use `fillna()` to simply turn that into whitespace, which we will then strip away to avoid excess whitespace resulting from multiple blank \"essays\" in a row."
   ]
  },
  {
   "cell_type": "code",
   "execution_count": 6,
   "metadata": {},
   "outputs": [
    {
     "name": "stdout",
     "output_type": "stream",
     "text": [
      "i work in a library and go to school. . . reading things written by old dead people playing synthesizers and organizing books according to the library of congress classification system socially awkward but i do my best bataille, celine, beckett. . . lynch, jarmusch, r.w. fassbender. . . twin peaks & fishing w/ john joy division, throbbing gristle, cabaret voltaire. . . vegetarian pho and coffee cats and german philosophy you feel so inclined. \n",
      "pisces but it doesn't matter\n",
      "doesn't want kids\n"
     ]
    }
   ],
   "source": [
    "essays_list = [\"essay\" + str(i) for i in range(0,10)]\n",
    "df['bio'] = df[essays_list].apply(lambda x: x + ' ').fillna(' ').sum(axis=1)\n",
    "df['bio'].replace(r\"\\s+\", \" \", regex=True, inplace=True)\n",
    "print(df['bio'][3])\n",
    "print(df['sign'][2])\n",
    "print(df['offspring'][3])"
   ]
  },
  {
   "cell_type": "markdown",
   "metadata": {},
   "source": [
    "Perfect! We can now see a fully cleaned `bio`, along with cleaned `sign` and `offspring` columns."
   ]
  },
  {
   "cell_type": "markdown",
   "metadata": {},
   "source": [
    "## Using Machine Learning to Predict Zodiac Sign\n",
    "\n",
    "If we check back to our table containing `NaN` values, we can see that `sign` has around 11,000 missing values. Using features that describe a user's habits and what they do for a living, we could potentially predict someone's zodiac sign in order to fill in the missing values. We'll want to do two things before we actually begin training an ML model on our data: select the models and classifiers we'll be using, and select a subet of data that we'll train those models on. \n",
    "\n",
    "Finally, we're only interested in the sign itself, not whether or not the user in question is a fervent believer in astrology. We can see after cleaning the data that some rows include things like **\"but it doesn't matter\"** in conjunction with a user's sign. We'll be removing this.\n",
    "\n",
    "### Creating a Subset of Data\n",
    "\n",
    "The features we'll use to train our model will be:\n",
    "- A cleaned `sign` column, which shows only the user's sign and nothing else\n",
    "- How often the person drinks\n",
    "- How often the person uses drugs\n",
    "- How often the person smokes\n",
    "- The person's diet\n",
    "- The person's body type\n",
    "- The person's job\n",
    "- The person's pet preference"
   ]
  },
  {
   "cell_type": "code",
   "execution_count": 7,
   "metadata": {},
   "outputs": [
    {
     "name": "stdout",
     "output_type": "stream",
     "text": [
      "15821\n"
     ]
    },
    {
     "data": {
      "text/html": [
       "<div>\n",
       "<style scoped>\n",
       "    .dataframe tbody tr th:only-of-type {\n",
       "        vertical-align: middle;\n",
       "    }\n",
       "\n",
       "    .dataframe tbody tr th {\n",
       "        vertical-align: top;\n",
       "    }\n",
       "\n",
       "    .dataframe thead th {\n",
       "        text-align: right;\n",
       "    }\n",
       "</style>\n",
       "<table border=\"1\" class=\"dataframe\">\n",
       "  <thead>\n",
       "    <tr style=\"text-align: right;\">\n",
       "      <th></th>\n",
       "      <th>sign</th>\n",
       "      <th>drinks</th>\n",
       "      <th>drugs</th>\n",
       "      <th>smokes</th>\n",
       "      <th>diet</th>\n",
       "      <th>body_type</th>\n",
       "      <th>job</th>\n",
       "      <th>pets</th>\n",
       "    </tr>\n",
       "  </thead>\n",
       "  <tbody>\n",
       "    <tr>\n",
       "      <th>0</th>\n",
       "      <td>gemini</td>\n",
       "      <td>socially</td>\n",
       "      <td>never</td>\n",
       "      <td>sometimes</td>\n",
       "      <td>strictly anything</td>\n",
       "      <td>a little extra</td>\n",
       "      <td>transportation</td>\n",
       "      <td>likes dogs and likes cats</td>\n",
       "    </tr>\n",
       "    <tr>\n",
       "      <th>1</th>\n",
       "      <td>cancer</td>\n",
       "      <td>often</td>\n",
       "      <td>sometimes</td>\n",
       "      <td>no</td>\n",
       "      <td>mostly other</td>\n",
       "      <td>average</td>\n",
       "      <td>hospitality / travel</td>\n",
       "      <td>likes dogs and likes cats</td>\n",
       "    </tr>\n",
       "    <tr>\n",
       "      <th>7</th>\n",
       "      <td>sagittarius</td>\n",
       "      <td>socially</td>\n",
       "      <td>never</td>\n",
       "      <td>no</td>\n",
       "      <td>mostly anything</td>\n",
       "      <td>average</td>\n",
       "      <td>artistic / musical / writer</td>\n",
       "      <td>likes dogs and likes cats</td>\n",
       "    </tr>\n",
       "    <tr>\n",
       "      <th>9</th>\n",
       "      <td>cancer</td>\n",
       "      <td>not at all</td>\n",
       "      <td>never</td>\n",
       "      <td>no</td>\n",
       "      <td>mostly anything</td>\n",
       "      <td>athletic</td>\n",
       "      <td>student</td>\n",
       "      <td>likes dogs and likes cats</td>\n",
       "    </tr>\n",
       "    <tr>\n",
       "      <th>11</th>\n",
       "      <td>leo</td>\n",
       "      <td>socially</td>\n",
       "      <td>never</td>\n",
       "      <td>no</td>\n",
       "      <td>mostly anything</td>\n",
       "      <td>average</td>\n",
       "      <td>banking / financial / real estate</td>\n",
       "      <td>likes cats</td>\n",
       "    </tr>\n",
       "  </tbody>\n",
       "</table>\n",
       "</div>"
      ],
      "text/plain": [
       "           sign      drinks      drugs     smokes               diet  \\\n",
       "0        gemini    socially      never  sometimes  strictly anything   \n",
       "1        cancer       often  sometimes         no       mostly other   \n",
       "7   sagittarius    socially      never         no    mostly anything   \n",
       "9        cancer  not at all      never         no    mostly anything   \n",
       "11          leo    socially      never         no    mostly anything   \n",
       "\n",
       "         body_type                                job  \\\n",
       "0   a little extra                     transportation   \n",
       "1          average               hospitality / travel   \n",
       "7          average        artistic / musical / writer   \n",
       "9         athletic                            student   \n",
       "11         average  banking / financial / real estate   \n",
       "\n",
       "                         pets  \n",
       "0   likes dogs and likes cats  \n",
       "1   likes dogs and likes cats  \n",
       "7   likes dogs and likes cats  \n",
       "9   likes dogs and likes cats  \n",
       "11                 likes cats  "
      ]
     },
     "execution_count": 7,
     "metadata": {},
     "output_type": "execute_result"
    }
   ],
   "source": [
    "signs_features = ['sign', 'drinks', 'drugs', 'smokes', 'diet', 'body_type', 'job', 'pets']\n",
    "signs_df = df[signs_features].dropna()\n",
    "signs_df['sign'] = signs_df['sign'].apply(lambda str: str.split()[0])\n",
    "print(len(signs_df))\n",
    "signs_df.head()"
   ]
  },
  {
   "cell_type": "markdown",
   "metadata": {},
   "source": [
    "We have around 15,000 rows of data to work with here. However, our models will not be able to understand what drinking \"socially\" vs \"often\" means, and so we need to turn this data into something readable by a machine learning model.\n",
    "\n",
    "### Creating dummy variables\n",
    "To achieve the aforementioned goal, we'll use `get_dummies()` to turn each column into several that contain binary values our model can learn from. "
   ]
  },
  {
   "cell_type": "code",
   "execution_count": 8,
   "metadata": {},
   "outputs": [
    {
     "data": {
      "text/html": [
       "<div>\n",
       "<style scoped>\n",
       "    .dataframe tbody tr th:only-of-type {\n",
       "        vertical-align: middle;\n",
       "    }\n",
       "\n",
       "    .dataframe tbody tr th {\n",
       "        vertical-align: top;\n",
       "    }\n",
       "\n",
       "    .dataframe thead th {\n",
       "        text-align: right;\n",
       "    }\n",
       "</style>\n",
       "<table border=\"1\" class=\"dataframe\">\n",
       "  <thead>\n",
       "    <tr style=\"text-align: right;\">\n",
       "      <th></th>\n",
       "      <th>sign</th>\n",
       "      <th>drinks_desperately</th>\n",
       "      <th>drinks_not at all</th>\n",
       "      <th>drinks_often</th>\n",
       "      <th>drinks_rarely</th>\n",
       "      <th>drinks_socially</th>\n",
       "      <th>drinks_very often</th>\n",
       "      <th>drugs_never</th>\n",
       "      <th>drugs_often</th>\n",
       "      <th>drugs_sometimes</th>\n",
       "      <th>...</th>\n",
       "      <th>pets_has cats</th>\n",
       "      <th>pets_has dogs</th>\n",
       "      <th>pets_has dogs and dislikes cats</th>\n",
       "      <th>pets_has dogs and has cats</th>\n",
       "      <th>pets_has dogs and likes cats</th>\n",
       "      <th>pets_likes cats</th>\n",
       "      <th>pets_likes dogs</th>\n",
       "      <th>pets_likes dogs and dislikes cats</th>\n",
       "      <th>pets_likes dogs and has cats</th>\n",
       "      <th>pets_likes dogs and likes cats</th>\n",
       "    </tr>\n",
       "  </thead>\n",
       "  <tbody>\n",
       "    <tr>\n",
       "      <th>0</th>\n",
       "      <td>gemini</td>\n",
       "      <td>0</td>\n",
       "      <td>0</td>\n",
       "      <td>0</td>\n",
       "      <td>0</td>\n",
       "      <td>1</td>\n",
       "      <td>0</td>\n",
       "      <td>1</td>\n",
       "      <td>0</td>\n",
       "      <td>0</td>\n",
       "      <td>...</td>\n",
       "      <td>0</td>\n",
       "      <td>0</td>\n",
       "      <td>0</td>\n",
       "      <td>0</td>\n",
       "      <td>0</td>\n",
       "      <td>0</td>\n",
       "      <td>0</td>\n",
       "      <td>0</td>\n",
       "      <td>0</td>\n",
       "      <td>1</td>\n",
       "    </tr>\n",
       "    <tr>\n",
       "      <th>1</th>\n",
       "      <td>cancer</td>\n",
       "      <td>0</td>\n",
       "      <td>0</td>\n",
       "      <td>1</td>\n",
       "      <td>0</td>\n",
       "      <td>0</td>\n",
       "      <td>0</td>\n",
       "      <td>0</td>\n",
       "      <td>0</td>\n",
       "      <td>1</td>\n",
       "      <td>...</td>\n",
       "      <td>0</td>\n",
       "      <td>0</td>\n",
       "      <td>0</td>\n",
       "      <td>0</td>\n",
       "      <td>0</td>\n",
       "      <td>0</td>\n",
       "      <td>0</td>\n",
       "      <td>0</td>\n",
       "      <td>0</td>\n",
       "      <td>1</td>\n",
       "    </tr>\n",
       "    <tr>\n",
       "      <th>7</th>\n",
       "      <td>sagittarius</td>\n",
       "      <td>0</td>\n",
       "      <td>0</td>\n",
       "      <td>0</td>\n",
       "      <td>0</td>\n",
       "      <td>1</td>\n",
       "      <td>0</td>\n",
       "      <td>1</td>\n",
       "      <td>0</td>\n",
       "      <td>0</td>\n",
       "      <td>...</td>\n",
       "      <td>0</td>\n",
       "      <td>0</td>\n",
       "      <td>0</td>\n",
       "      <td>0</td>\n",
       "      <td>0</td>\n",
       "      <td>0</td>\n",
       "      <td>0</td>\n",
       "      <td>0</td>\n",
       "      <td>0</td>\n",
       "      <td>1</td>\n",
       "    </tr>\n",
       "    <tr>\n",
       "      <th>9</th>\n",
       "      <td>cancer</td>\n",
       "      <td>0</td>\n",
       "      <td>1</td>\n",
       "      <td>0</td>\n",
       "      <td>0</td>\n",
       "      <td>0</td>\n",
       "      <td>0</td>\n",
       "      <td>1</td>\n",
       "      <td>0</td>\n",
       "      <td>0</td>\n",
       "      <td>...</td>\n",
       "      <td>0</td>\n",
       "      <td>0</td>\n",
       "      <td>0</td>\n",
       "      <td>0</td>\n",
       "      <td>0</td>\n",
       "      <td>0</td>\n",
       "      <td>0</td>\n",
       "      <td>0</td>\n",
       "      <td>0</td>\n",
       "      <td>1</td>\n",
       "    </tr>\n",
       "    <tr>\n",
       "      <th>11</th>\n",
       "      <td>leo</td>\n",
       "      <td>0</td>\n",
       "      <td>0</td>\n",
       "      <td>0</td>\n",
       "      <td>0</td>\n",
       "      <td>1</td>\n",
       "      <td>0</td>\n",
       "      <td>1</td>\n",
       "      <td>0</td>\n",
       "      <td>0</td>\n",
       "      <td>...</td>\n",
       "      <td>0</td>\n",
       "      <td>0</td>\n",
       "      <td>0</td>\n",
       "      <td>0</td>\n",
       "      <td>0</td>\n",
       "      <td>1</td>\n",
       "      <td>0</td>\n",
       "      <td>0</td>\n",
       "      <td>0</td>\n",
       "      <td>0</td>\n",
       "    </tr>\n",
       "  </tbody>\n",
       "</table>\n",
       "<p>5 rows × 81 columns</p>\n",
       "</div>"
      ],
      "text/plain": [
       "           sign  drinks_desperately  drinks_not at all  drinks_often  \\\n",
       "0        gemini                   0                  0             0   \n",
       "1        cancer                   0                  0             1   \n",
       "7   sagittarius                   0                  0             0   \n",
       "9        cancer                   0                  1             0   \n",
       "11          leo                   0                  0             0   \n",
       "\n",
       "    drinks_rarely  drinks_socially  drinks_very often  drugs_never  \\\n",
       "0               0                1                  0            1   \n",
       "1               0                0                  0            0   \n",
       "7               0                1                  0            1   \n",
       "9               0                0                  0            1   \n",
       "11              0                1                  0            1   \n",
       "\n",
       "    drugs_often  drugs_sometimes  ...  pets_has cats  pets_has dogs  \\\n",
       "0             0                0  ...              0              0   \n",
       "1             0                1  ...              0              0   \n",
       "7             0                0  ...              0              0   \n",
       "9             0                0  ...              0              0   \n",
       "11            0                0  ...              0              0   \n",
       "\n",
       "    pets_has dogs and dislikes cats  pets_has dogs and has cats  \\\n",
       "0                                 0                           0   \n",
       "1                                 0                           0   \n",
       "7                                 0                           0   \n",
       "9                                 0                           0   \n",
       "11                                0                           0   \n",
       "\n",
       "    pets_has dogs and likes cats  pets_likes cats  pets_likes dogs  \\\n",
       "0                              0                0                0   \n",
       "1                              0                0                0   \n",
       "7                              0                0                0   \n",
       "9                              0                0                0   \n",
       "11                             0                1                0   \n",
       "\n",
       "    pets_likes dogs and dislikes cats  pets_likes dogs and has cats  \\\n",
       "0                                   0                             0   \n",
       "1                                   0                             0   \n",
       "7                                   0                             0   \n",
       "9                                   0                             0   \n",
       "11                                  0                             0   \n",
       "\n",
       "    pets_likes dogs and likes cats  \n",
       "0                                1  \n",
       "1                                1  \n",
       "7                                1  \n",
       "9                                1  \n",
       "11                               0  \n",
       "\n",
       "[5 rows x 81 columns]"
      ]
     },
     "execution_count": 8,
     "metadata": {},
     "output_type": "execute_result"
    }
   ],
   "source": [
    "for feature in signs_features[1:]:\n",
    "    signs_df = pd.get_dummies(signs_df, columns=[feature], prefix=[feature])\n",
    "signs_df.head()"
   ]
  },
  {
   "cell_type": "markdown",
   "metadata": {},
   "source": [
    "This is what our data looks like now. We have 81 columns to work with, each describing either a habit, lifestyle choice, work, or pet preference. Finally, it's important to check for data imbalance. If one label is more represented over others, it will be a favored choice, increasing accuracy without necessarily being any more accurate. In this case, we can see that most labels have around the same amount of values."
   ]
  },
  {
   "cell_type": "code",
   "execution_count": 9,
   "metadata": {},
   "outputs": [
    {
     "data": {
      "text/plain": [
       "virgo          1436\n",
       "leo            1414\n",
       "cancer         1389\n",
       "gemini         1378\n",
       "taurus         1341\n",
       "libra          1325\n",
       "scorpio        1323\n",
       "aries          1280\n",
       "pisces         1268\n",
       "sagittarius    1268\n",
       "aquarius       1231\n",
       "capricorn      1168\n",
       "Name: sign, dtype: int64"
      ]
     },
     "execution_count": 9,
     "metadata": {},
     "output_type": "execute_result"
    }
   ],
   "source": [
    "signs_df['sign'].value_counts()"
   ]
  },
  {
   "cell_type": "markdown",
   "metadata": {},
   "source": [
    "### Splitting the data\n",
    "\n",
    "The next step will be to split the data into a training set and a testing set. The default parameters are 80% training data, and 20% testing data, which we will keep in this particular case."
   ]
  },
  {
   "cell_type": "code",
   "execution_count": 10,
   "metadata": {},
   "outputs": [],
   "source": [
    "from sklearn.model_selection import train_test_split\n",
    "\n",
    "data = signs_df.iloc[:, 1:]\n",
    "labels = signs_df['sign'].values\n",
    "\n",
    "signs_train_data, signs_test_data, signs_train_labels, signs_test_labels = train_test_split(data, labels, random_state=0)"
   ]
  },
  {
   "cell_type": "markdown",
   "metadata": {},
   "source": [
    "### Selecting Our Models\n",
    "\n",
    "There's multiple ways to predict data in our current format. In this project, we'll be using a Decision Tree, and a K-Nearest Neighbors model to try to classify people into their correct zodiac signs using the features in `signs_df`. However, could it be possible to accurately predict someone's zodiac sign based on the way they describe themselves and what they're looking for? We'll attempt to train a Naive-Bayes classifier using the `bio` column we created earlier, which is made up of all combined essays, to predict zodiac sign, as well. \n",
    "\n",
    "Let's import the models we'll be using."
   ]
  },
  {
   "cell_type": "code",
   "execution_count": 11,
   "metadata": {},
   "outputs": [],
   "source": [
    "from sklearn import tree\n",
    "from sklearn.neighbors import KNeighborsClassifier\n",
    "from sklearn.pipeline import Pipeline\n",
    "from sklearn.feature_extraction.text import CountVectorizer\n",
    "from sklearn.feature_extraction.text import TfidfTransformer\n",
    "from sklearn.naive_bayes import MultinomialNB"
   ]
  },
  {
   "cell_type": "markdown",
   "metadata": {},
   "source": [
    "### Evaluating and Testing Our Models\n",
    "\n",
    "We'll also use two different functions to evaluate our models. One will print a classification report that includes a model's **precision, recall, and F1-score.** The other will use a K-FOLD Cross Validation score, testing the model K times(default 5), and returning a score each time. We'll average those score to get an overall sense of that model's accuracy.\n",
    "\n",
    "Our models will create predictions based on the **test** set, not the **training** set. These predictions are then what we'll use to evaluate a model's accuracy."
   ]
  },
  {
   "cell_type": "code",
   "execution_count": 12,
   "metadata": {},
   "outputs": [],
   "source": [
    "from sklearn.model_selection import cross_val_score\n",
    "from sklearn.metrics import classification_report"
   ]
  },
  {
   "cell_type": "markdown",
   "metadata": {},
   "source": [
    "### Training a Decision Tree\n",
    "\n",
    "We'll start with a decision tree. We'll train it on our training set, and then make predictions using the test set and labels. "
   ]
  },
  {
   "cell_type": "code",
   "execution_count": 13,
   "metadata": {},
   "outputs": [],
   "source": [
    "tree_clf = tree.DecisionTreeClassifier()\n",
    "tree_clf.fit(signs_train_data, signs_train_labels)\n",
    "tree_predictions = tree_clf.predict(signs_test_data)"
   ]
  },
  {
   "cell_type": "markdown",
   "metadata": {},
   "source": [
    "### Analyzing the Decision Tree\n",
    "It's important to visualize and understand just how accurate these predictions might be. We'll look at a confusion matrix and then use `cross_val_score()` to get a numeric value we can interpret more easily."
   ]
  },
  {
   "cell_type": "code",
   "execution_count": 14,
   "metadata": {},
   "outputs": [
    {
     "data": {
      "image/png": "[encoded data removed]",
      "text/plain": [
       "<Figure size 864x576 with 2 Axes>"
      ]
     },
     "metadata": {
      "needs_background": "light"
     },
     "output_type": "display_data"
    }
   ],
   "source": [
    "from sklearn.metrics import confusion_matrix\n",
    "\n",
    "cm = confusion_matrix(signs_test_labels, tree_predictions)\n",
    "\n",
    "plt.figure(figsize=(12,8))\n",
    "ax = plt.subplot()\n",
    "sns.heatmap(cm, annot=True, ax = ax,fmt=\"d\")\n",
    "ax.set_xlabel(\"Predicted value\")\n",
    "ax.set_ylabel(\"True value\")\n",
    "ax.set_xticklabels(tree_clf.classes_, rotation=90)\n",
    "ax.set_yticklabels(tree_clf.classes_, rotation=360)\n",
    "plt.show()"
   ]
  },
  {
   "cell_type": "code",
   "execution_count": 15,
   "metadata": {},
   "outputs": [
    {
     "name": "stdout",
     "output_type": "stream",
     "text": [
      "              precision    recall  f1-score   support\n",
      "\n",
      "    aquarius       0.08      0.12      0.09       317\n",
      "       aries       0.08      0.10      0.09       339\n",
      "      cancer       0.08      0.09      0.09       340\n",
      "   capricorn       0.07      0.08      0.07       281\n",
      "      gemini       0.07      0.09      0.08       316\n",
      "         leo       0.07      0.07      0.07       352\n",
      "       libra       0.11      0.09      0.10       345\n",
      "      pisces       0.08      0.08      0.08       321\n",
      " sagittarius       0.10      0.07      0.08       289\n",
      "     scorpio       0.08      0.06      0.07       343\n",
      "      taurus       0.07      0.05      0.06       341\n",
      "       virgo       0.09      0.06      0.07       372\n",
      "\n",
      "    accuracy                           0.08      3956\n",
      "   macro avg       0.08      0.08      0.08      3956\n",
      "weighted avg       0.08      0.08      0.08      3956\n",
      "\n",
      "Accuracy: 9.07%\n",
      "Tree depth: 60\n"
     ]
    }
   ],
   "source": [
    "tree_score = cross_val_score(tree_clf, signs_test_data, signs_test_labels).mean() * 100\n",
    "print(classification_report(signs_test_labels, tree_predictions))\n",
    "print(\"Accuracy: {:.2f}%\".format(tree_score))\n",
    "print(\"Tree depth: {0}\".format(tree_clf.get_depth()))"
   ]
  },
  {
   "cell_type": "markdown",
   "metadata": {},
   "source": [
    "### Evaluating the Decision Tree Model\n",
    "\n",
    "Unfortunately, the results of the predictions made by the decision tree don't seem to indicate that it's very accurate. At around **8%** accuracy, it'll accurately predict a zodiac sign based on the given features roughly 1 out of 12 times, which is the probability of a person randomly picking a zodiac sign and getting it correct. That means that our decision tree model is, sadly, no better than a human at correctly predicting zodiac sign based on these features. Tweaking the max_depth of the tree achieves very little as far as accuracy goes. By default, it reaches a depth of **60**, which would indicate overfitting of data, as the tree makes very specific decisions to achieve a prediction, which would not be able to apply to general data. "
   ]
  },
  {
   "cell_type": "markdown",
   "metadata": {},
   "source": [
    "### Training a K-Nearest Neighbors Classifier\n",
    "\n",
    "This model will look at the same features, creating centroids that will be used to create classifications for our data. We can then predict how future data will be classified by seeing where it falls. "
   ]
  },
  {
   "cell_type": "code",
   "execution_count": 16,
   "metadata": {},
   "outputs": [
    {
     "name": "stdout",
     "output_type": "stream",
     "text": [
      "              precision    recall  f1-score   support\n",
      "\n",
      "    aquarius       0.07      0.19      0.10       317\n",
      "       aries       0.09      0.16      0.12       339\n",
      "      cancer       0.09      0.14      0.11       340\n",
      "   capricorn       0.08      0.09      0.08       281\n",
      "      gemini       0.09      0.10      0.10       316\n",
      "         leo       0.09      0.07      0.08       352\n",
      "       libra       0.11      0.06      0.07       345\n",
      "      pisces       0.11      0.06      0.08       321\n",
      " sagittarius       0.08      0.06      0.07       289\n",
      "     scorpio       0.10      0.05      0.07       343\n",
      "      taurus       0.13      0.08      0.10       341\n",
      "       virgo       0.11      0.05      0.07       372\n",
      "\n",
      "    accuracy                           0.09      3956\n",
      "   macro avg       0.10      0.09      0.09      3956\n",
      "weighted avg       0.10      0.09      0.09      3956\n",
      "\n",
      "Accuracy: 7.96%\n"
     ]
    }
   ],
   "source": [
    "knn_clf = KNeighborsClassifier()\n",
    "knn_clf.fit(signs_train_data, signs_train_labels)\n",
    "knn_predictions = knn_clf.predict(signs_test_data)\n",
    "knn_score = cross_val_score(knn_clf, signs_test_data, signs_test_labels).mean() * 100\n",
    "print(classification_report(signs_test_labels, knn_predictions))\n",
    "print(\"Accuracy: {:.2f}%\".format(knn_score))"
   ]
  },
  {
   "cell_type": "markdown",
   "metadata": {},
   "source": [
    "### Tweaking the K-Nearest Neighbors Classifier\n",
    "\n",
    "Our initial test with K-Nearest Neighbors doesn't show much promise either. Once again, we have a little under **8%** success rate in predicting zodiac sign using these features. This is still no better than random chance. However, we may be able to optimize the amount of K-Neighbors this model uses, trying to find a value that'll improve its accuracy. We'll iterate through several values for `n_neighbors` and create a list containing averaged score values, as well as storing our potential best K value and its corresponding score."
   ]
  },
  {
   "cell_type": "code",
   "execution_count": 17,
   "metadata": {},
   "outputs": [],
   "source": [
    "accuracies = []\n",
    "best_accuracy = 0\n",
    "best_k = 0\n",
    "for i in range(1,21):\n",
    "    test_knn = KNeighborsClassifier(n_neighbors=i)\n",
    "    test_knn.fit(signs_train_data, signs_train_labels)\n",
    "    score = cross_val_score(test_knn, signs_test_data, signs_test_labels).mean() * 100\n",
    "    accuracies.append(score)\n",
    "    if score > best_accuracy:\n",
    "        best_accuracy = score\n",
    "        best_k = i"
   ]
  },
  {
   "cell_type": "markdown",
   "metadata": {},
   "source": [
    "Now let's visualize the results of this loop."
   ]
  },
  {
   "cell_type": "code",
   "execution_count": 18,
   "metadata": {},
   "outputs": [
    {
     "data": {
      "image/png": "[encoded data removed]",
      "text/plain": [
       "<Figure size 864x576 with 1 Axes>"
      ]
     },
     "metadata": {
      "needs_background": "light"
     },
     "output_type": "display_data"
    }
   ],
   "source": [
    "plt.figure(figsize=(12,8))\n",
    "ax = plt.subplot()\n",
    "plt.plot(range(len(accuracies)), accuracies)\n",
    "plt.xlabel(\"K-Value\")\n",
    "plt.ylabel(\"Score\")\n",
    "ax.set_xticks(range(len(accuracies)))\n",
    "plt.show()"
   ]
  },
  {
   "cell_type": "markdown",
   "metadata": {},
   "source": [
    "### Evaluating the K-Nearest Neighbors Classifier\n",
    "\n",
    "Unfortunately, the highest average score was around **9%**, peaking at a K-Value of **16**. It would be hard to justify looping through more values, as the amount of change seen is minimal and appears to once again drop after `n_neighbors=16`. Sadly, K-Nearest Neighbors will not help us assign zodiac signs in an accurate way, either."
   ]
  },
  {
   "cell_type": "markdown",
   "metadata": {},
   "source": [
    "### Training a Naive-Bayes Classifier\n",
    "\n",
    "Finally, would it be possible to predict a person's zodiac sign based on the descriptions given in their profile essays? We'll use the `bio` column that was created earlier in the project. This will be a very large subset of data, as the only features we're interested in are the `bio` and `sign` features. First, we'll make a new dataframe with the features we need."
   ]
  },
  {
   "cell_type": "code",
   "execution_count": 19,
   "metadata": {},
   "outputs": [
    {
     "name": "stdout",
     "output_type": "stream",
     "text": [
      "48890\n"
     ]
    },
    {
     "data": {
      "text/html": [
       "<div>\n",
       "<style scoped>\n",
       "    .dataframe tbody tr th:only-of-type {\n",
       "        vertical-align: middle;\n",
       "    }\n",
       "\n",
       "    .dataframe tbody tr th {\n",
       "        vertical-align: top;\n",
       "    }\n",
       "\n",
       "    .dataframe thead th {\n",
       "        text-align: right;\n",
       "    }\n",
       "</style>\n",
       "<table border=\"1\" class=\"dataframe\">\n",
       "  <thead>\n",
       "    <tr style=\"text-align: right;\">\n",
       "      <th></th>\n",
       "      <th>bio</th>\n",
       "      <th>sign</th>\n",
       "    </tr>\n",
       "  </thead>\n",
       "  <tbody>\n",
       "    <tr>\n",
       "      <th>0</th>\n",
       "      <td>about me: i would love to think that i was som...</td>\n",
       "      <td>gemini</td>\n",
       "    </tr>\n",
       "    <tr>\n",
       "      <th>1</th>\n",
       "      <td>i am a chef: this is what that means. 1. i am ...</td>\n",
       "      <td>cancer</td>\n",
       "    </tr>\n",
       "    <tr>\n",
       "      <th>2</th>\n",
       "      <td>i'm not ashamed of much, but writing public te...</td>\n",
       "      <td>pisces</td>\n",
       "    </tr>\n",
       "    <tr>\n",
       "      <th>3</th>\n",
       "      <td>i work in a library and go to school. . . read...</td>\n",
       "      <td>pisces</td>\n",
       "    </tr>\n",
       "    <tr>\n",
       "      <th>4</th>\n",
       "      <td>hey how's it going? currently vague on the pro...</td>\n",
       "      <td>aquarius</td>\n",
       "    </tr>\n",
       "  </tbody>\n",
       "</table>\n",
       "</div>"
      ],
      "text/plain": [
       "                                                 bio      sign\n",
       "0  about me: i would love to think that i was som...    gemini\n",
       "1  i am a chef: this is what that means. 1. i am ...    cancer\n",
       "2  i'm not ashamed of much, but writing public te...    pisces\n",
       "3  i work in a library and go to school. . . read...    pisces\n",
       "4  hey how's it going? currently vague on the pro...  aquarius"
      ]
     },
     "execution_count": 19,
     "metadata": {},
     "output_type": "execute_result"
    }
   ],
   "source": [
    "bio_df = df[['bio', 'sign']].dropna()\n",
    "bio_df['sign'] = bio_df['sign'].apply(lambda str: str.split()[0])\n",
    "print(len(bio_df))\n",
    "bio_df.head()"
   ]
  },
  {
   "cell_type": "markdown",
   "metadata": {},
   "source": [
    "Seeing as we have almost 50,000 values training could take a minute or two. For training our model we'll be using a `Pipeline`. This `Pipeline` will use a `CountVectorizer` to create a term-document matrix from the training data, then a Tf-idf matrix using `TfidfTransformer`, which will be used to train `MultinomialNB` in order to create predictions. "
   ]
  },
  {
   "cell_type": "code",
   "execution_count": 20,
   "metadata": {},
   "outputs": [
    {
     "name": "stdout",
     "output_type": "stream",
     "text": [
      "Accuracy: 8.95%\n"
     ]
    }
   ],
   "source": [
    "nb_clf = Pipeline([\n",
    "    ('counter', CountVectorizer(stop_words='english')),\n",
    "    ('transformer', TfidfTransformer()),\n",
    "    ('clf', MultinomialNB())\n",
    "])\n",
    "\n",
    "bio_data = bio_df['bio'].values\n",
    "bio_labels = bio_df['sign'].values\n",
    "\n",
    "\n",
    "bio_train_data, bio_test_data, bio_train_labels, bio_test_labels = train_test_split(bio_data, bio_labels)\n",
    "nb_clf.fit(bio_train_data, bio_train_labels)\n",
    "nb_predictions = nb_clf.predict(bio_test_data)\n",
    "print(\"Accuracy: {:.2f}%\".format(np.mean(nb_predictions == bio_test_labels) * 100))"
   ]
  },
  {
   "cell_type": "markdown",
   "metadata": {},
   "source": [
    "### Analyzing Naive-Bayes Classifier\n",
    "\n",
    "Much like the Decision Tree and K-Nearest Neighbors, it's not very accurate (once again hovering around **8%**). It stands about the same chance at correctly predicting a zodiac sign as it would by picking it at random."
   ]
  },
  {
   "cell_type": "markdown",
   "metadata": {},
   "source": [
    "## Zodiac Sign Prediction: Conclusion\n",
    "\n",
    "Unfortunately, our models were not very accurate when it came to predicting a person's zodiac sign based on the selected features. Assigning a number to each sign then rolling two fair dice to predict someone's sign will have around the same success rate as our models."
   ]
  },
  {
   "cell_type": "markdown",
   "metadata": {},
   "source": [
    "## Predicting Whether or Not Someone Wants Children\n",
    "\n",
    "Another opportunity to fill in a lot of missing data exists in the `offspring` column. As previously mentioned, there are nearly 35,000 missing values here. Often people want to wait until they're at a very comfortable point in their life before deciding to have children. Could we use features such as education, and job to predict whether someone might want children or not?\n",
    "\n",
    "Let's start by seeing what the unique values for the `offspring` column are."
   ]
  },
  {
   "cell_type": "code",
   "execution_count": 21,
   "metadata": {},
   "outputs": [
    {
     "data": {
      "text/plain": [
       "array([\"doesn't have kids, but might want them\", nan, \"doesn't want kids\",\n",
       "       \"doesn't have kids, but wants them\", \"doesn't have kids\",\n",
       "       'wants kids', 'has a kid', 'has kids',\n",
       "       \"doesn't have kids, and doesn't want any\",\n",
       "       \"has kids, but doesn't want more\",\n",
       "       \"has a kid, but doesn't want more\", 'has a kid, and wants more',\n",
       "       'has kids, and might want more', 'might want kids',\n",
       "       'has a kid, and might want more', 'has kids, and wants more'],\n",
       "      dtype=object)"
      ]
     },
     "execution_count": 21,
     "metadata": {},
     "output_type": "execute_result"
    }
   ],
   "source": [
    "df['offspring'].unique()"
   ]
  },
  {
   "cell_type": "markdown",
   "metadata": {},
   "source": [
    "### Subsetting the Data\n",
    "\n",
    "We're not going to consider any qualifiers other than \"wants\" or \"doesn't want\" for these predictions. What that means is that whether the person has kids or not currently will not be considered. Circumstances can often cause a person who isn't ready to have a child, and what we really want to know is if there's a particular point in a person's education or career where they actually feel like they **want** children. \n",
    "\n",
    "Once again, let's begin by selecting features. In this case we want:\n",
    "- Education\n",
    "- Job\n",
    "- Wants/doesn't want children"
   ]
  },
  {
   "cell_type": "code",
   "execution_count": 53,
   "metadata": {},
   "outputs": [
    {
     "name": "stdout",
     "output_type": "stream",
     "text": [
      "[\"doesn't have kids, but might want them\" \"doesn't want kids\"\n",
      " \"doesn't have kids, but wants them\"\n",
      " \"doesn't have kids, and doesn't want any\"\n",
      " \"has kids, but doesn't want more\" 'has a kid, and wants more'\n",
      " 'has kids, and might want more' 'might want kids'\n",
      " 'has a kid, and might want more' \"has a kid, but doesn't want more\"\n",
      " 'wants kids' 'has kids, and wants more']\n",
      "11496\n"
     ]
    },
    {
     "data": {
      "text/html": [
       "<div>\n",
       "<style scoped>\n",
       "    .dataframe tbody tr th:only-of-type {\n",
       "        vertical-align: middle;\n",
       "    }\n",
       "\n",
       "    .dataframe tbody tr th {\n",
       "        vertical-align: top;\n",
       "    }\n",
       "\n",
       "    .dataframe thead th {\n",
       "        text-align: right;\n",
       "    }\n",
       "</style>\n",
       "<table border=\"1\" class=\"dataframe\">\n",
       "  <thead>\n",
       "    <tr style=\"text-align: right;\">\n",
       "      <th></th>\n",
       "      <th>education</th>\n",
       "      <th>job</th>\n",
       "      <th>wants_children</th>\n",
       "    </tr>\n",
       "  </thead>\n",
       "  <tbody>\n",
       "    <tr>\n",
       "      <th>0</th>\n",
       "      <td>working on college/university</td>\n",
       "      <td>transportation</td>\n",
       "      <td>1</td>\n",
       "    </tr>\n",
       "    <tr>\n",
       "      <th>1</th>\n",
       "      <td>working on space camp</td>\n",
       "      <td>hospitality / travel</td>\n",
       "      <td>1</td>\n",
       "    </tr>\n",
       "    <tr>\n",
       "      <th>3</th>\n",
       "      <td>working on college/university</td>\n",
       "      <td>student</td>\n",
       "      <td>0</td>\n",
       "    </tr>\n",
       "    <tr>\n",
       "      <th>5</th>\n",
       "      <td>graduated from college/university</td>\n",
       "      <td>computer / hardware / software</td>\n",
       "      <td>1</td>\n",
       "    </tr>\n",
       "    <tr>\n",
       "      <th>7</th>\n",
       "      <td>graduated from college/university</td>\n",
       "      <td>artistic / musical / writer</td>\n",
       "      <td>1</td>\n",
       "    </tr>\n",
       "  </tbody>\n",
       "</table>\n",
       "</div>"
      ],
      "text/plain": [
       "                           education                             job  \\\n",
       "0      working on college/university                  transportation   \n",
       "1              working on space camp            hospitality / travel   \n",
       "3      working on college/university                         student   \n",
       "5  graduated from college/university  computer / hardware / software   \n",
       "7  graduated from college/university     artistic / musical / writer   \n",
       "\n",
       "   wants_children  \n",
       "0               1  \n",
       "1               1  \n",
       "3               0  \n",
       "5               1  \n",
       "7               1  "
      ]
     },
     "execution_count": 53,
     "metadata": {},
     "output_type": "execute_result"
    }
   ],
   "source": [
    "children_features = ['offspring', 'education', 'job', 'wants_children']\n",
    "children_df = df[children_features[:-1]].dropna()\n",
    "children_df['wants_children'] = children_df['offspring'].apply(lambda x: 0 if (\"doesn't want\" in x) \\\n",
    "                                                                else (1 if \"want\" in x else None))\n",
    "children_df.dropna(inplace=True)\n",
    "children_df['wants_children'] = children_df['wants_children'].astype(int)\n",
    "print(children_df['offspring'].unique())\n",
    "children_df = children_df.drop(columns=['offspring'])\n",
    "print(len(children_df))\n",
    "children_df.head(5)"
   ]
  },
  {
   "cell_type": "markdown",
   "metadata": {},
   "source": [
    "Using the above code, we have a dataframe that includes rows for people who want/don't want children. Any rows that include `NaN` values or simply any value that stated \"has kids\" without indicating if they wanted more or not has been removed. This leaves us with about 11,000 rows to work with.\n",
    "\n",
    "### Creating Dummy Variables\n",
    "\n",
    "As with the zodiac predictions, we'll want to split our existing features into dummy variables that our classifiers will be able to interpret more easily."
   ]
  },
  {
   "cell_type": "code",
   "execution_count": 54,
   "metadata": {},
   "outputs": [
    {
     "data": {
      "text/html": [
       "<div>\n",
       "<style scoped>\n",
       "    .dataframe tbody tr th:only-of-type {\n",
       "        vertical-align: middle;\n",
       "    }\n",
       "\n",
       "    .dataframe tbody tr th {\n",
       "        vertical-align: top;\n",
       "    }\n",
       "\n",
       "    .dataframe thead th {\n",
       "        text-align: right;\n",
       "    }\n",
       "</style>\n",
       "<table border=\"1\" class=\"dataframe\">\n",
       "  <thead>\n",
       "    <tr style=\"text-align: right;\">\n",
       "      <th></th>\n",
       "      <th>wants_children</th>\n",
       "      <th>education_college/university</th>\n",
       "      <th>education_dropped out of college/university</th>\n",
       "      <th>education_dropped out of high school</th>\n",
       "      <th>education_dropped out of law school</th>\n",
       "      <th>education_dropped out of masters program</th>\n",
       "      <th>education_dropped out of med school</th>\n",
       "      <th>education_dropped out of ph.d program</th>\n",
       "      <th>education_dropped out of space camp</th>\n",
       "      <th>education_dropped out of two-year college</th>\n",
       "      <th>...</th>\n",
       "      <th>job_military</th>\n",
       "      <th>job_other</th>\n",
       "      <th>job_political / government</th>\n",
       "      <th>job_rather not say</th>\n",
       "      <th>job_retired</th>\n",
       "      <th>job_sales / marketing / biz dev</th>\n",
       "      <th>job_science / tech / engineering</th>\n",
       "      <th>job_student</th>\n",
       "      <th>job_transportation</th>\n",
       "      <th>job_unemployed</th>\n",
       "    </tr>\n",
       "  </thead>\n",
       "  <tbody>\n",
       "    <tr>\n",
       "      <th>0</th>\n",
       "      <td>1</td>\n",
       "      <td>0</td>\n",
       "      <td>0</td>\n",
       "      <td>0</td>\n",
       "      <td>0</td>\n",
       "      <td>0</td>\n",
       "      <td>0</td>\n",
       "      <td>0</td>\n",
       "      <td>0</td>\n",
       "      <td>0</td>\n",
       "      <td>...</td>\n",
       "      <td>0</td>\n",
       "      <td>0</td>\n",
       "      <td>0</td>\n",
       "      <td>0</td>\n",
       "      <td>0</td>\n",
       "      <td>0</td>\n",
       "      <td>0</td>\n",
       "      <td>0</td>\n",
       "      <td>1</td>\n",
       "      <td>0</td>\n",
       "    </tr>\n",
       "    <tr>\n",
       "      <th>1</th>\n",
       "      <td>1</td>\n",
       "      <td>0</td>\n",
       "      <td>0</td>\n",
       "      <td>0</td>\n",
       "      <td>0</td>\n",
       "      <td>0</td>\n",
       "      <td>0</td>\n",
       "      <td>0</td>\n",
       "      <td>0</td>\n",
       "      <td>0</td>\n",
       "      <td>...</td>\n",
       "      <td>0</td>\n",
       "      <td>0</td>\n",
       "      <td>0</td>\n",
       "      <td>0</td>\n",
       "      <td>0</td>\n",
       "      <td>0</td>\n",
       "      <td>0</td>\n",
       "      <td>0</td>\n",
       "      <td>0</td>\n",
       "      <td>0</td>\n",
       "    </tr>\n",
       "    <tr>\n",
       "      <th>3</th>\n",
       "      <td>0</td>\n",
       "      <td>0</td>\n",
       "      <td>0</td>\n",
       "      <td>0</td>\n",
       "      <td>0</td>\n",
       "      <td>0</td>\n",
       "      <td>0</td>\n",
       "      <td>0</td>\n",
       "      <td>0</td>\n",
       "      <td>0</td>\n",
       "      <td>...</td>\n",
       "      <td>0</td>\n",
       "      <td>0</td>\n",
       "      <td>0</td>\n",
       "      <td>0</td>\n",
       "      <td>0</td>\n",
       "      <td>0</td>\n",
       "      <td>0</td>\n",
       "      <td>1</td>\n",
       "      <td>0</td>\n",
       "      <td>0</td>\n",
       "    </tr>\n",
       "    <tr>\n",
       "      <th>5</th>\n",
       "      <td>1</td>\n",
       "      <td>0</td>\n",
       "      <td>0</td>\n",
       "      <td>0</td>\n",
       "      <td>0</td>\n",
       "      <td>0</td>\n",
       "      <td>0</td>\n",
       "      <td>0</td>\n",
       "      <td>0</td>\n",
       "      <td>0</td>\n",
       "      <td>...</td>\n",
       "      <td>0</td>\n",
       "      <td>0</td>\n",
       "      <td>0</td>\n",
       "      <td>0</td>\n",
       "      <td>0</td>\n",
       "      <td>0</td>\n",
       "      <td>0</td>\n",
       "      <td>0</td>\n",
       "      <td>0</td>\n",
       "      <td>0</td>\n",
       "    </tr>\n",
       "    <tr>\n",
       "      <th>7</th>\n",
       "      <td>1</td>\n",
       "      <td>0</td>\n",
       "      <td>0</td>\n",
       "      <td>0</td>\n",
       "      <td>0</td>\n",
       "      <td>0</td>\n",
       "      <td>0</td>\n",
       "      <td>0</td>\n",
       "      <td>0</td>\n",
       "      <td>0</td>\n",
       "      <td>...</td>\n",
       "      <td>0</td>\n",
       "      <td>0</td>\n",
       "      <td>0</td>\n",
       "      <td>0</td>\n",
       "      <td>0</td>\n",
       "      <td>0</td>\n",
       "      <td>0</td>\n",
       "      <td>0</td>\n",
       "      <td>0</td>\n",
       "      <td>0</td>\n",
       "    </tr>\n",
       "  </tbody>\n",
       "</table>\n",
       "<p>5 rows × 54 columns</p>\n",
       "</div>"
      ],
      "text/plain": [
       "   wants_children  education_college/university  \\\n",
       "0               1                             0   \n",
       "1               1                             0   \n",
       "3               0                             0   \n",
       "5               1                             0   \n",
       "7               1                             0   \n",
       "\n",
       "   education_dropped out of college/university  \\\n",
       "0                                            0   \n",
       "1                                            0   \n",
       "3                                            0   \n",
       "5                                            0   \n",
       "7                                            0   \n",
       "\n",
       "   education_dropped out of high school  education_dropped out of law school  \\\n",
       "0                                     0                                    0   \n",
       "1                                     0                                    0   \n",
       "3                                     0                                    0   \n",
       "5                                     0                                    0   \n",
       "7                                     0                                    0   \n",
       "\n",
       "   education_dropped out of masters program  \\\n",
       "0                                         0   \n",
       "1                                         0   \n",
       "3                                         0   \n",
       "5                                         0   \n",
       "7                                         0   \n",
       "\n",
       "   education_dropped out of med school  education_dropped out of ph.d program  \\\n",
       "0                                    0                                      0   \n",
       "1                                    0                                      0   \n",
       "3                                    0                                      0   \n",
       "5                                    0                                      0   \n",
       "7                                    0                                      0   \n",
       "\n",
       "   education_dropped out of space camp  \\\n",
       "0                                    0   \n",
       "1                                    0   \n",
       "3                                    0   \n",
       "5                                    0   \n",
       "7                                    0   \n",
       "\n",
       "   education_dropped out of two-year college  ...  job_military  job_other  \\\n",
       "0                                          0  ...             0          0   \n",
       "1                                          0  ...             0          0   \n",
       "3                                          0  ...             0          0   \n",
       "5                                          0  ...             0          0   \n",
       "7                                          0  ...             0          0   \n",
       "\n",
       "   job_political / government  job_rather not say  job_retired  \\\n",
       "0                           0                   0            0   \n",
       "1                           0                   0            0   \n",
       "3                           0                   0            0   \n",
       "5                           0                   0            0   \n",
       "7                           0                   0            0   \n",
       "\n",
       "   job_sales / marketing / biz dev  job_science / tech / engineering  \\\n",
       "0                                0                                 0   \n",
       "1                                0                                 0   \n",
       "3                                0                                 0   \n",
       "5                                0                                 0   \n",
       "7                                0                                 0   \n",
       "\n",
       "   job_student  job_transportation  job_unemployed  \n",
       "0            0                   1               0  \n",
       "1            0                   0               0  \n",
       "3            1                   0               0  \n",
       "5            0                   0               0  \n",
       "7            0                   0               0  \n",
       "\n",
       "[5 rows x 54 columns]"
      ]
     },
     "execution_count": 54,
     "metadata": {},
     "output_type": "execute_result"
    }
   ],
   "source": [
    "for feature in children_features[1:-1]:\n",
    "    children_df = pd.get_dummies(children_df, columns=[feature], prefix=[feature])\n",
    "children_df.head()"
   ]
  },
  {
   "cell_type": "markdown",
   "metadata": {},
   "source": [
    "Our data now looks like this. We have **54** columns we can work with. One final step is to check label equality. Here, we see a bit of a problem. We see that the group of people who want children outnumbers the group of people who don't by nearly 2:1. As we'll be using classification reports to evaluate our models, we may want to rely on **precision** or **recall** rather than **accuracy**. "
   ]
  },
  {
   "cell_type": "code",
   "execution_count": 55,
   "metadata": {},
   "outputs": [
    {
     "data": {
      "text/plain": [
       "1    7377\n",
       "0    4119\n",
       "Name: wants_children, dtype: int64"
      ]
     },
     "execution_count": 55,
     "metadata": {},
     "output_type": "execute_result"
    }
   ],
   "source": [
    "children_df['wants_children'].value_counts()"
   ]
  },
  {
   "cell_type": "markdown",
   "metadata": {},
   "source": [
    "### Splitting Our Data\n",
    "\n",
    "We once again want to split our data into a training set and a test set. We'll use the test set to create predictions and evaluate our model."
   ]
  },
  {
   "cell_type": "code",
   "execution_count": 56,
   "metadata": {},
   "outputs": [],
   "source": [
    "children_data = children_df.iloc[:, 1:]\n",
    "children_labels = children_df['wants_children'].values\n",
    "\n",
    "children_train_data, children_test_data, children_train_labels, children_test_labels = train_test_split(children_data, \\\n",
    "                                                                                                       children_labels, \\\n",
    "                                                                                                       random_state=0)"
   ]
  },
  {
   "cell_type": "markdown",
   "metadata": {},
   "source": [
    "### Selecting Our Models\n",
    "\n",
    "For this test, we'll try a Logistic Regression model first. Seeing as our dependent variable is a binary choice of wants/doesn't want, it makes sense to use this type of model to predict classifications. We'll also attempt to once again use a K-Nearest Neighbors classifier. Let's import the Logistic Regression model, as we already have the KNN model imported from a previous test."
   ]
  },
  {
   "cell_type": "code",
   "execution_count": 26,
   "metadata": {},
   "outputs": [],
   "source": [
    "from sklearn.linear_model import LogisticRegression"
   ]
  },
  {
   "cell_type": "markdown",
   "metadata": {},
   "source": [
    "### Training a Logistic Regression Model\n",
    "\n",
    "With our data properly split, let's begin training our LR model."
   ]
  },
  {
   "cell_type": "code",
   "execution_count": 59,
   "metadata": {},
   "outputs": [
    {
     "name": "stdout",
     "output_type": "stream",
     "text": [
      "              precision    recall  f1-score   support\n",
      "\n",
      "           0       0.60      0.13      0.21      1024\n",
      "           1       0.66      0.95      0.78      1850\n",
      "\n",
      "    accuracy                           0.66      2874\n",
      "   macro avg       0.63      0.54      0.50      2874\n",
      "weighted avg       0.64      0.66      0.58      2874\n",
      "\n"
     ]
    }
   ],
   "source": [
    "lr_clf = LogisticRegression()\n",
    "lr_clf.fit(children_train_data, children_train_labels)\n",
    "lr_predictions = lr_clf.predict(children_test_data)\n",
    "print(classification_report(children_test_labels, lr_predictions))"
   ]
  },
  {
   "cell_type": "code",
   "execution_count": 60,
   "metadata": {},
   "outputs": [
    {
     "data": {
      "image/png": "[encoded data removed]",
      "text/plain": [
       "<Figure size 864x576 with 2 Axes>"
      ]
     },
     "metadata": {
      "needs_background": "light"
     },
     "output_type": "display_data"
    }
   ],
   "source": [
    "children_cm = confusion_matrix(children_test_labels, lr_predictions)\n",
    "\n",
    "plt.figure(figsize=(12,8))\n",
    "ax = plt.subplot()\n",
    "sns.heatmap(children_cm, annot=True, ax = ax,fmt=\"d\")\n",
    "ax.set_xlabel(\"Predicted value\")\n",
    "ax.set_ylabel(\"True value\")\n",
    "ax.set_xticklabels([\"doesn't want\", \"wants\"])\n",
    "ax.set_yticklabels([\"doesn't want\", \"wants\"], rotation=360)\n",
    "plt.show()"
   ]
  },
  {
   "cell_type": "markdown",
   "metadata": {},
   "source": [
    "### Evaluating the Logistic Regression Model\n",
    "\n",
    "As expected, given that there's some data imbalance, the model predicts \"wants\" more often, resulting in the model not being very good at actually detecting when someone doesn't want children. "
   ]
  },
  {
   "cell_type": "markdown",
   "metadata": {},
   "source": [
    "### Training the K-Nearest Neighbor Model\n",
    "\n",
    "Next up, we'll see if the K-Nearest Neighbor model can do better. It's likely that it will suffer from a similar problem of over-guessing \"wants.\""
   ]
  },
  {
   "cell_type": "code",
   "execution_count": 2,
   "metadata": {},
   "outputs": [
    {
     "ename": "NameError",
     "evalue": "name 'KNeighborsClassifier' is not defined",
     "output_type": "error",
     "traceback": [
      "\u001b[1;31m---------------------------------------------------------------------------\u001b[0m",
      "\u001b[1;31mNameError\u001b[0m                                 Traceback (most recent call last)",
      "\u001b[1;32m<ipython-input-2-07d799b2d6dc>\u001b[0m in \u001b[0;36m<module>\u001b[1;34m\u001b[0m\n\u001b[1;32m----> 1\u001b[1;33m \u001b[0mknn_clf\u001b[0m \u001b[1;33m=\u001b[0m \u001b[0mKNeighborsClassifier\u001b[0m\u001b[1;33m(\u001b[0m\u001b[1;33m)\u001b[0m\u001b[1;33m\u001b[0m\u001b[1;33m\u001b[0m\u001b[0m\n\u001b[0m\u001b[0;32m      2\u001b[0m \u001b[0mknn_clf\u001b[0m\u001b[1;33m.\u001b[0m\u001b[0mfit\u001b[0m\u001b[1;33m(\u001b[0m\u001b[0mchildren_train_data\u001b[0m\u001b[1;33m,\u001b[0m \u001b[0mchildren_train_labels\u001b[0m\u001b[1;33m)\u001b[0m\u001b[1;33m\u001b[0m\u001b[1;33m\u001b[0m\u001b[0m\n\u001b[0;32m      3\u001b[0m \u001b[0mknn_child_predictions\u001b[0m \u001b[1;33m=\u001b[0m \u001b[0mknn_clf\u001b[0m\u001b[1;33m.\u001b[0m\u001b[0mpredict\u001b[0m\u001b[1;33m(\u001b[0m\u001b[0mchildren_test_data\u001b[0m\u001b[1;33m)\u001b[0m\u001b[1;33m\u001b[0m\u001b[1;33m\u001b[0m\u001b[0m\n\u001b[0;32m      4\u001b[0m \u001b[0mprint\u001b[0m\u001b[1;33m(\u001b[0m\u001b[0mclassification_report\u001b[0m\u001b[1;33m(\u001b[0m\u001b[0mchildren_test_labels\u001b[0m\u001b[1;33m,\u001b[0m \u001b[0mknn_child_predictions\u001b[0m\u001b[1;33m)\u001b[0m\u001b[1;33m)\u001b[0m\u001b[1;33m\u001b[0m\u001b[1;33m\u001b[0m\u001b[0m\n",
      "\u001b[1;31mNameError\u001b[0m: name 'KNeighborsClassifier' is not defined"
     ]
    }
   ],
   "source": [
    "knn_clf = KNeighborsClassifier()\n",
    "knn_clf.fit(children_train_data, children_train_labels)\n",
    "knn_child_predictions = knn_clf.predict(children_test_data)\n",
    "print(classification_report(children_test_labels, knn_child_predictions))"
   ]
  },
  {
   "cell_type": "code",
   "execution_count": null,
   "metadata": {},
   "outputs": [],
   "source": []
  }
 ],
 "metadata": {
  "kernelspec": {
   "display_name": "Python 3",
   "language": "python",
   "name": "python3"
  },
  "language_info": {
   "codemirror_mode": {
    "name": "ipython",
    "version": 3
   },
   "file_extension": ".py",
   "mimetype": "text/x-python",
   "name": "python",
   "nbconvert_exporter": "python",
   "pygments_lexer": "ipython3",
   "version": "3.8.8"
  }
 },
 "nbformat": 4,
 "nbformat_minor": 4
}
